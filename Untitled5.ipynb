{
  "metadata": {
    "kernelspec": {
      "name": "python",
      "display_name": "Python (Pyodide)",
      "language": "python"
    },
    "language_info": {
      "codemirror_mode": {
        "name": "python",
        "version": 3
      },
      "file_extension": ".py",
      "mimetype": "text/x-python",
      "name": "python",
      "nbconvert_exporter": "python",
      "pygments_lexer": "ipython3",
      "version": "3.8"
    }
  },
  "nbformat_minor": 4,
  "nbformat": 4,
  "cells": [
    {
      "cell_type": "markdown",
      "source": "# Exercises 11.1, 11.2, and 16.8\nThis notebook contains the solutions for the following tasks:\n- **11.1**: Create a module and use it interactively.\n- **11.2**: Import the module using an alias.\n- **16.8**: Use SQLAlchemy to query data from a database.\n",
      "metadata": {}
    },
    {
      "cell_type": "markdown",
      "source": "## Exercise 11.1\nCreate a file called `zoo.py` with a function `hours()` that prints `Open 9-5 daily`. Import and call the function in the interactive interpreter.\n",
      "metadata": {}
    },
    {
      "cell_type": "code",
      "source": "# Solution for 11.1\n\n# Create the zoo.py file\nwith open('zoo.py', 'w') as f:\n    f.write(\"\"\"\ndef hours():\n    print('Open 9-5 daily')\n    \"\"\")\n\n# Verify that the file was created\nprint(\"zoo.py created successfully.\")\n",
      "metadata": {
        "trusted": true
      },
      "outputs": [],
      "execution_count": null
    },
    {
      "cell_type": "markdown",
      "source": "## Exercise 11.2\nImport the `zoo` module as `menagerie` in the interactive interpreter and call the `hours()` function.\n",
      "metadata": {}
    },
    {
      "cell_type": "code",
      "source": "# Solution for 11.2\n\n# Import the zoo module and call the function\nimport zoo as menagerie\nmenagerie.hours()\n",
      "metadata": {
        "trusted": true
      },
      "outputs": [],
      "execution_count": null
    },
    {
      "cell_type": "code",
      "source": "# Create books.db and populate the book table (for 16.8)\n\nimport sqlite3\n\n# Connect to (or create) the books.db database\nconnection = sqlite3.connect('books.db')\ncursor = connection.cursor()\n\n# Drop the table if it exists\ncursor.execute('DROP TABLE IF EXISTS book')\n\n# Create the book table\ncursor.execute('''\nCREATE TABLE book (\n    id INTEGER PRIMARY KEY,\n    title TEXT NOT NULL,\n    author TEXT NOT NULL,\n    year INTEGER NOT NULL\n)\n''')\n\n# Insert sample data into the book table\nbooks = [\n    (1, 'Pride and Prejudice', 'Jane Austen', 1813),\n    (2, 'To Kill a Mockingbird', 'Harper Lee', 1960),\n    (3, 'The Great Gatsby', 'F. Scott Fitzgerald', 1925),\n    (4, '1984', 'George Orwell', 1949),\n    (5, 'Moby-Dick', 'Herman Melville', 1851)\n]\ncursor.executemany('INSERT INTO book VALUES (?, ?, ?, ?)', books)\n\n# Commit and close the connection\nconnection.commit()\nconnection.close()\n\nprint(\"books.db created and populated successfully.\")\n",
      "metadata": {
        "trusted": true
      },
      "outputs": [],
      "execution_count": null
    },
    {
      "cell_type": "code",
      "source": "# Solution for 16.8\n\nfrom sqlalchemy import create_engine, MetaData, Table, select\n\n# Connect to the books.db SQLite database\nengine = create_engine('sqlite:///books.db')\nconnection = engine.connect()\n\n# Reflect the database and locate the 'book' table\nmetadata = MetaData()\nbook_table = Table('book', metadata, autoload_with=engine)\n\n# Query to select and print the title column in alphabetical order\nquery = select(book_table.c.title).order_by(book_table.c.title)\nresult = connection.execute(query)\n\n# Print the results\nprint(\"Book Titles in Alphabetical Order:\")\nfor row in result:\n    print(row.title)\n",
      "metadata": {
        "trusted": true
      },
      "outputs": [],
      "execution_count": null
    },
    {
      "cell_type": "code",
      "source": "",
      "metadata": {
        "trusted": true
      },
      "outputs": [],
      "execution_count": null
    }
  ]
}