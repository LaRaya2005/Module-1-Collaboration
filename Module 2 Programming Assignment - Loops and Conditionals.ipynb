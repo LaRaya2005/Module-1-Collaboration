{
  "metadata": {
    "kernelspec": {
      "name": "python",
      "display_name": "Python (Pyodide)",
      "language": "python"
    },
    "language_info": {
      "name": ""
    }
  },
  "nbformat_minor": 4,
  "nbformat": 4,
  "cells": [
    {
      "cell_type": "markdown",
      "source": "# Chapter 4 and Chapter 6 Assignment: Python Exercises\n\n### 4.1 Choose a number, assign it to `secret` and another to `guess`, then write conditional tests:\n```python\nsecret = 7  # Choose a number between 1 and 10\nguess = 7   # Another number between 1 and 10\n\nif guess < secret:\n    print(\"too low\")\nelif guess > secret:\n    print(\"too high\")\nelse:\n    print(\"just right\")\n",
      "metadata": {}
    },
    {
      "cell_type": "raw",
      "source": "small = True  # Assign True or False\ngreen = True  # Assign True or False\n\nif small and green:\n    print(\"pea\")\nelif small and not green:\n    print(\"cherry\")\nelif not small and green:\n    print(\"watermelon\")\nelse:\n    print(\"pumpkin\")\n",
      "metadata": {}
    },
    {
      "cell_type": "code",
      "source": "for value in [3, 2, 1, 0]:\n    print(value)\n",
      "metadata": {
        "trusted": true
      },
      "outputs": [],
      "execution_count": null
    },
    {
      "cell_type": "code",
      "source": "guess_me = 7  # Assign value 7\nnumber = 1    # Assign value 1\n\nwhile True:\n    if number < guess_me:\n        print(\"too low\")\n    elif number == guess_me:\n        print(\"found it!\")\n        break\n    else:\n        print(\"oops\")\n        break\n    number += 1  # Increment number\n",
      "metadata": {
        "trusted": true
      },
      "outputs": [],
      "execution_count": null
    },
    {
      "cell_type": "code",
      "source": "guess_me = 5  # Assign value 5\n\nfor number in range(10):\n    if number < guess_me:\n        print(\"too low\")\n    elif number == guess_me:\n        print(\"found it!\")\n        break\n    else:\n        print(\"oops\")\n        break\n",
      "metadata": {
        "trusted": true
      },
      "outputs": [],
      "execution_count": null
    },
    {
      "cell_type": "code",
      "source": "",
      "metadata": {
        "trusted": true
      },
      "outputs": [],
      "execution_count": null
    }
  ]
}